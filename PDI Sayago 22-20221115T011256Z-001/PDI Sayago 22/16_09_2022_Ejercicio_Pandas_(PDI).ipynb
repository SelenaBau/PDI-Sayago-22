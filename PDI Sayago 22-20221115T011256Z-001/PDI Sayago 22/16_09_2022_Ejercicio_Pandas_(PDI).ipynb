{
  "nbformat": 4,
  "nbformat_minor": 0,
  "metadata": {
    "colab": {
      "provenance": []
    },
    "kernelspec": {
      "name": "python3",
      "display_name": "Python 3"
    },
    "language_info": {
      "name": "python"
    }
  },
  "cells": [
    {
      "cell_type": "code",
      "execution_count": 1,
      "metadata": {
        "id": "LPiclMPOks6I"
      },
      "outputs": [],
      "source": [
        "import pandas as pd"
      ]
    },
    {
      "cell_type": "code",
      "source": [
        "inicio = int(input('Introduce el año inicial: '))\n",
        "fin = int(input('Introduce el año final: '))\n",
        "ventas = {}\n",
        "for i in range(inicio, fin+1):\n",
        "    ventas[i] = float(input('Introduce las ventas del año ' + str(i) +': '))\n",
        "ventas = pd.Series(ventas)\n",
        "print('Ventas\\n', ventas)\n",
        "print('Ventas con descuento\\n', ventas*0.9)"
      ],
      "metadata": {
        "colab": {
          "base_uri": "https://localhost:8080/"
        },
        "id": "NGO_Ykgbk55p",
        "outputId": "ac98200c-cedc-46bd-ef97-062bbb559a2b"
      },
      "execution_count": 3,
      "outputs": [
        {
          "output_type": "stream",
          "name": "stdout",
          "text": [
            "Introduce el año inicial: 2010\n",
            "Introduce el año final: 2015\n",
            "Introduce las ventas del año 2010: 15\n",
            "Introduce las ventas del año 2011: 14\n",
            "Introduce las ventas del año 2012: 11\n",
            "Introduce las ventas del año 2013: 20\n",
            "Introduce las ventas del año 2014: 13\n",
            "Introduce las ventas del año 2015: 19\n",
            "Ventas\n",
            " 2010    15.0\n",
            "2011    14.0\n",
            "2012    11.0\n",
            "2013    20.0\n",
            "2014    13.0\n",
            "2015    19.0\n",
            "dtype: float64\n",
            "Ventas con descuento\n",
            " 2010    13.5\n",
            "2011    12.6\n",
            "2012     9.9\n",
            "2013    18.0\n",
            "2014    11.7\n",
            "2015    17.1\n",
            "dtype: float64\n"
          ]
        }
      ]
    },
    {
      "cell_type": "code",
      "source": [
        "def estadistica_notas(notas):\n",
        "    notas = pd.Series(notas)\n",
        "    estadisticos = pd.Series([notas.min(), notas.max(), notas.mean(), notas.std()], index=['Min', 'Max', 'Media', 'Desviación típica'])\n",
        "    return estadisticos\n",
        "\n",
        "notas = {'Juan':9, 'María':6.5, 'Pedro':4, 'Carmen': 8.5, 'Luis': 5}\n",
        "print(estadistica_notas(notas))\n"
      ],
      "metadata": {
        "colab": {
          "base_uri": "https://localhost:8080/"
        },
        "id": "taeyWFbBlBzz",
        "outputId": "d8780b6d-0a3b-4ded-b580-5bdcf6be9e2a"
      },
      "execution_count": 4,
      "outputs": [
        {
          "output_type": "stream",
          "name": "stdout",
          "text": [
            "Min                  4.000000\n",
            "Max                  9.000000\n",
            "Media                6.600000\n",
            "Desviación típica    2.162175\n",
            "dtype: float64\n"
          ]
        }
      ]
    },
    {
      "cell_type": "code",
      "source": [
        "def aprobados(notas):\n",
        "    notas = pd.Series(notas)\n",
        "    return notas[notas >= 5].sort_values(ascending=False)\n",
        "\n",
        "notas = {'Juan':9, 'María':6.5, 'Pedro':4, 'Carmen': 8.5, 'Luis': 5}\n",
        "print(aprobados(notas))"
      ],
      "metadata": {
        "colab": {
          "base_uri": "https://localhost:8080/"
        },
        "id": "0XJQlz4LlaMr",
        "outputId": "d58d9325-30ab-4b45-8392-986c203b91a8"
      },
      "execution_count": 5,
      "outputs": [
        {
          "output_type": "stream",
          "name": "stdout",
          "text": [
            "Juan      9.0\n",
            "Carmen    8.5\n",
            "María     6.5\n",
            "Luis      5.0\n",
            "dtype: float64\n"
          ]
        }
      ]
    }
  ]
}